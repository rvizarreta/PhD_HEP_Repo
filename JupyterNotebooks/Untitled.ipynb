{
 "cells": [
  {
   "cell_type": "code",
   "execution_count": 1,
   "id": "bea36abd-d092-42c9-8b88-b5ad4ce4c4ed",
   "metadata": {},
   "outputs": [],
   "source": [
    "import os\n",
    "from sys import argv, exit"
   ]
  },
  {
   "cell_type": "code",
   "execution_count": 2,
   "id": "503dfa34-f722-49b7-99a7-849d9e3e1608",
   "metadata": {},
   "outputs": [
    {
     "data": {
      "text/plain": [
       "['/nashome/r/rvizarr/.local/lib/python3.9/site-packages/ipykernel_launcher.py',\n",
       " '-f',\n",
       " '/nashome/r/rvizarr/.local/share/jupyter/runtime/kernel-d0b5417e-180b-4080-9f5b-85a2e1bea0db.json']"
      ]
     },
     "execution_count": 2,
     "metadata": {},
     "output_type": "execute_result"
    }
   ],
   "source": [
    "argv"
   ]
  },
  {
   "cell_type": "code",
   "execution_count": 3,
   "id": "24a0f080-e5f4-4f16-a131-f857c95eaf99",
   "metadata": {},
   "outputs": [
    {
     "name": "stdout",
     "output_type": "stream",
     "text": [
      "Script name: /nashome/r/rvizarr/.local/lib/python3.9/site-packages/ipykernel_launcher.py\n",
      "Additional arguments:\n",
      "-f\n",
      "/nashome/r/rvizarr/.local/share/jupyter/runtime/kernel-d0b5417e-180b-4080-9f5b-85a2e1bea0db.json\n"
     ]
    }
   ],
   "source": [
    "import sys\n",
    "\n",
    "# Accessing command-line arguments\n",
    "arguments = sys.argv\n",
    "\n",
    "# Printing the script name\n",
    "print(\"Script name:\", arguments[0])\n",
    "\n",
    "# Printing additional command-line arguments\n",
    "if len(arguments) > 1:\n",
    "    print(\"Additional arguments:\")\n",
    "    for arg in arguments[1:]:\n",
    "        print(arg)\n"
   ]
  },
  {
   "cell_type": "code",
   "execution_count": null,
   "id": "7cd2b788-5f14-440f-b51e-aa472d63b6ee",
   "metadata": {},
   "outputs": [],
   "source": []
  }
 ],
 "metadata": {
  "kernelspec": {
   "display_name": "Python 3",
   "language": "python",
   "name": "python3"
  },
  "language_info": {
   "codemirror_mode": {
    "name": "ipython",
    "version": 3
   },
   "file_extension": ".py",
   "mimetype": "text/x-python",
   "name": "python",
   "nbconvert_exporter": "python",
   "pygments_lexer": "ipython3",
   "version": "3.9.2"
  }
 },
 "nbformat": 4,
 "nbformat_minor": 5
}
