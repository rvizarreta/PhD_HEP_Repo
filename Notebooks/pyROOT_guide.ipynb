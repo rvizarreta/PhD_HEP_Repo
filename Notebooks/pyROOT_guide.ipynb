{
 "cells": [
  {
   "cell_type": "code",
   "execution_count": 4,
   "metadata": {},
   "outputs": [
    {
     "name": "stdout",
     "output_type": "stream",
     "text": [
      "Welcome to JupyROOT 6.22/08\n",
      "DUNE plot style enabled\n"
     ]
    }
   ],
   "source": [
    "# REQUIRED PACKAGES\n",
    "import ROOT\n",
    "from ROOT import RDataFrame\n",
    "import numpy as np\n",
    "\n",
    "# IMPORTING ADDITIONAL PACKAGES\n",
    "from ipywidgets import interact, widgets\n",
    "import dunestyle.root as dunestyle"
   ]
  },
  {
   "cell_type": "code",
   "execution_count": 5,
   "metadata": {},
   "outputs": [
    {
     "data": {
      "application/vnd.jupyter.widget-view+json": {
       "model_id": "416d1774f7fd4da4b6005b955db0b108",
       "version_major": 2,
       "version_minor": 0
      },
      "text/plain": [
       "Dropdown(description='🌴 Tree:', layout=Layout(width='max-content'), options=('Select Tree', 'header', 'gates',…"
      ]
     },
     "metadata": {},
     "output_type": "display_data"
    }
   ],
   "source": [
    "# READING FILE TREES\n",
    "file = ROOT.TFile.Open('../../nearlinetest/Iterations/ntuple_cal.root')\n",
    "#while file.IsOpen():\n",
    "key_list = file.GetListOfKeys()\n",
    "trees = []\n",
    "for key in key_list:\n",
    "    # Get the object associated with the key\n",
    "    obj = key.ReadObj()\n",
    "    # Check if the object is a TTree\n",
    "    if isinstance(obj, ROOT.TTree):\n",
    "        # Append the name of the tree to the array\n",
    "        trees.append(obj.GetName())\n",
    "#    file.Close()\n",
    "\n",
    "trees.insert(0, 'Select Tree')\n",
    "drop_down_trees = widgets.Dropdown(options=trees,\n",
    "                                description='🌴 Tree:',\n",
    "                                disabled=False,\n",
    "                                layout={'width': 'max-content'})\n",
    "display(drop_down_trees)"
   ]
  },
  {
   "cell_type": "code",
   "execution_count": 6,
   "metadata": {},
   "outputs": [],
   "source": [
    "tree = file.Get(drop_down_trees.value)\n",
    "#tree.Show(5)"
   ]
  },
  {
   "cell_type": "code",
   "execution_count": null,
   "metadata": {},
   "outputs": [],
   "source": [
    "tree.Print()"
   ]
  },
  {
   "cell_type": "code",
   "execution_count": 7,
   "metadata": {},
   "outputs": [
    {
     "data": {
      "application/vnd.jupyter.widget-view+json": {
       "model_id": "0215fc02164a4441afdcba1b2ae6f0bf",
       "version_major": 2,
       "version_minor": 0
      },
      "text/plain": [
       "Dropdown(description='🍂 Branch:', layout=Layout(width='max-content'), options=('Select Branch', 'ev_run', 'ev_…"
      ]
     },
     "metadata": {},
     "output_type": "display_data"
    }
   ],
   "source": [
    "# EXTRACTING DATA FROM SELECTED TREE\n",
    "#while file.IsOpen():\n",
    "list = tree.GetListOfBranches()\n",
    "branches = []\n",
    "for item in list:\n",
    "    # Get the name of the branch\n",
    "    branch_name = item.GetName()\n",
    "    # Append the name to the array\n",
    "    branches.append(branch_name)\n",
    "#    file.Close()\n",
    "\n",
    "branches.insert(0, 'Select Branch')\n",
    "drop_down_branches = widgets.Dropdown(options=branches,\n",
    "                            description='🍂 Branch:',\n",
    "                            disabled=False,\n",
    "                            layout={'width': 'max-content'})\n",
    "display(drop_down_branches)"
   ]
  },
  {
   "cell_type": "code",
   "execution_count": 8,
   "metadata": {},
   "outputs": [
    {
     "data": {
      "image/png": "[encoded data removed]",
      "text/plain": [
       "<IPython.core.display.Image object>"
      ]
     },
     "metadata": {},
     "output_type": "display_data"
    }
   ],
   "source": [
    "# PLOTTING HISTOGRAM\n",
    "canvas = ROOT.TCanvas(\"canvas\", \"Plot\")\n",
    "\n",
    "tree.Draw(drop_down_branches.value)\n",
    "canvas.Draw()\n"
   ]
  },
  {
   "cell_type": "code",
   "execution_count": null,
   "metadata": {},
   "outputs": [],
   "source": []
  }
 ],
 "metadata": {
  "kernelspec": {
   "display_name": "Python 3",
   "language": "python",
   "name": "python3"
  },
  "language_info": {
   "codemirror_mode": {
    "name": "ipython",
    "version": 3
   },
   "file_extension": ".py",
   "mimetype": "text/x-python",
   "name": "python",
   "nbconvert_exporter": "python",
   "pygments_lexer": "ipython3",
   "version": "3.9.2"
  },
  "orig_nbformat": 4
 },
 "nbformat": 4,
 "nbformat_minor": 2
}
