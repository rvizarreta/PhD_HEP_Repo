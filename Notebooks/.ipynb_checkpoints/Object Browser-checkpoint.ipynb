{
 "cells": [
  {
   "cell_type": "markdown",
   "id": "8099fcff-bf39-4206-a337-435106d6b8e1",
   "metadata": {},
   "source": [
    "### In this notebook I'll explain with more detail what are some of the main branches for our calibration purposes."
   ]
  },
  {
   "cell_type": "code",
   "execution_count": 1,
   "id": "7e750fe0-5658-4d66-8d90-cad11ee7eed2",
   "metadata": {},
   "outputs": [
    {
     "name": "stdout",
     "output_type": "stream",
     "text": [
      "Welcome to JupyROOT 6.22/08\n",
      "DUNE plot style enabled\n"
     ]
    }
   ],
   "source": [
    "# REQUIRED PACKAGES\n",
    "import ROOT\n",
    "from ROOT import RDataFrame\n",
    "import numpy as np\n",
    "\n",
    "# IMPORTING ADDITIONAL PACKAGES\n",
    "from ipywidgets import interact, widgets\n",
    "import dunestyle.root as dunestyle"
   ]
  },
  {
   "cell_type": "code",
   "execution_count": 2,
   "id": "fba39718-c244-4b25-8412-ef3ce13820b3",
   "metadata": {},
   "outputs": [
    {
     "data": {
      "application/vnd.jupyter.widget-view+json": {
       "model_id": "f12adb8f32704a72882142f67827c4e6",
       "version_major": 2,
       "version_minor": 0
      },
      "text/plain": [
       "Dropdown(description='🌴 Tree:', layout=Layout(width='max-content'), options=('Select Tree', 'header', 'gates',…"
      ]
     },
     "metadata": {},
     "output_type": "display_data"
    }
   ],
   "source": [
    "# READING FILE TREES\n",
    "file = ROOT.TFile.Open('../../nearlinetest/Iterations/ntuple_cal.root')\n",
    "key_list = file.GetListOfKeys()\n",
    "trees = []\n",
    "for key in key_list:\n",
    "    # Get the object associated with the key\n",
    "    obj = key.ReadObj()\n",
    "    # Check if the object is a TTree\n",
    "    if isinstance(obj, ROOT.TTree):\n",
    "        # Append the name of the tree to the array\n",
    "        trees.append(obj.GetName())\n",
    "\n",
    "trees.insert(0, 'Select Tree')\n",
    "drop_down_trees = widgets.Dropdown(options=trees,\n",
    "                                description='🌴 Tree:',\n",
    "                                disabled=False,\n",
    "                                layout={'width': 'max-content'})\n",
    "display(drop_down_trees)"
   ]
  },
  {
   "cell_type": "code",
   "execution_count": 5,
   "id": "ff4d15d0-c990-4042-b520-53216323d99d",
   "metadata": {},
   "outputs": [],
   "source": [
    "tree = file.Get(drop_down_trees.value)\n",
    "canvas = ROOT.TCanvas(\"canvas\", \"Plot\")"
   ]
  },
  {
   "cell_type": "code",
   "execution_count": 4,
   "id": "fea3f1bf-91ba-4913-ace3-9620828f3367",
   "metadata": {},
   "outputs": [
    {
     "data": {
      "application/vnd.jupyter.widget-view+json": {
       "model_id": "caa117685ce2429d875ef1c4fe7acfbf",
       "version_major": 2,
       "version_minor": 0
      },
      "text/plain": [
       "Dropdown(description='🍂 Branch:', layout=Layout(width='max-content'), options=('Select Branch', 'ev_run', 'ev_…"
      ]
     },
     "metadata": {},
     "output_type": "display_data"
    }
   ],
   "source": [
    "# EXTRACTING DATA FROM SELECTED TREE\n",
    "list = tree.GetListOfBranches()\n",
    "branches = []\n",
    "for item in list:\n",
    "    # Get the name of the branch\n",
    "    branch_name = item.GetName()\n",
    "    # Append the name to the array\n",
    "    branches.append(branch_name)\n",
    "\n",
    "branches.insert(0, 'Select Branch')\n",
    "drop_down_branches = widgets.Dropdown(options=branches,\n",
    "                            description='🍂 Branch:',\n",
    "                            disabled=False,\n",
    "                            layout={'width': 'max-content'})\n",
    "display(drop_down_branches)"
   ]
  },
  {
   "cell_type": "code",
   "execution_count": 7,
   "id": "1ad162df-ca01-4180-9787-53cf8e1e99f7",
   "metadata": {},
   "outputs": [
    {
     "data": {
      "image/png": "[encoded data removed]",
      "text/plain": [
       "<IPython.core.display.Image object>"
      ]
     },
     "metadata": {},
     "output_type": "display_data"
    }
   ],
   "source": [
    "# PLOTTING HISTOGRAM\n",
    "tree.Draw(drop_down_branches.value)\n",
    "canvas.Draw()"
   ]
  },
  {
   "cell_type": "markdown",
   "id": "3f37666a-baf2-40e2-8c66-b7403ec60a92",
   "metadata": {},
   "source": [
    "ev: Means event. One event in this file is one muon."
   ]
  },
  {
   "cell_type": "code",
   "execution_count": 8,
   "id": "dc807944-dabd-4e10-8d3a-5c64ae9dc53d",
   "metadata": {},
   "outputs": [
    {
     "data": {
      "application/vnd.jupyter.widget-view+json": {
       "model_id": "caa117685ce2429d875ef1c4fe7acfbf",
       "version_major": 2,
       "version_minor": 0
      },
      "text/plain": [
       "Dropdown(description='🍂 Branch:', index=3, layout=Layout(width='max-content'), options=('Select Branch', 'ev_r…"
      ]
     },
     "metadata": {},
     "output_type": "display_data"
    }
   ],
   "source": [
    "display(drop_down_branches)"
   ]
  },
  {
   "cell_type": "code",
   "execution_count": 9,
   "id": "3a41c69a-b4af-4be1-84df-8b23bd4aea44",
   "metadata": {},
   "outputs": [
    {
     "data": {
      "image/png": "[encoded data removed]",
      "text/plain": [
       "<IPython.core.display.Image object>"
      ]
     },
     "metadata": {},
     "output_type": "display_data"
    }
   ],
   "source": [
    "# PLOTTING HISTOGRAM\n",
    "tree.Draw(drop_down_branches.value)\n",
    "canvas.Draw()"
   ]
  },
  {
   "cell_type": "markdown",
   "id": "5f349a95-bd10-4608-b28e-3abdd6f98fbd",
   "metadata": {},
   "source": [
    "First peak: Tracks that only go to the front.\n",
    "\n",
    "Second peak: Tracks that only go to the back."
   ]
  },
  {
   "cell_type": "code",
   "execution_count": 10,
   "id": "3553d43e-791c-4f97-ae04-dc15925a9715",
   "metadata": {},
   "outputs": [
    {
     "data": {
      "application/vnd.jupyter.widget-view+json": {
       "model_id": "caa117685ce2429d875ef1c4fe7acfbf",
       "version_major": 2,
       "version_minor": 0
      },
      "text/plain": [
       "Dropdown(description='🍂 Branch:', index=44, layout=Layout(width='max-content'), options=('Select Branch', 'ev_…"
      ]
     },
     "metadata": {},
     "output_type": "display_data"
    }
   ],
   "source": [
    "display(drop_down_branches)"
   ]
  },
  {
   "cell_type": "code",
   "execution_count": 11,
   "id": "f5d2fac8-dd81-4862-8518-a13aa2fe7925",
   "metadata": {},
   "outputs": [
    {
     "data": {
      "image/png": "[encoded data removed]",
      "text/plain": [
       "<IPython.core.display.Image object>"
      ]
     },
     "metadata": {},
     "output_type": "display_data"
    }
   ],
   "source": [
    "# PLOTTING HISTOGRAM\n",
    "tree.Draw(drop_down_branches.value)\n",
    "canvas.Draw()"
   ]
  },
  {
   "cell_type": "markdown",
   "id": "e31bf1dd-128a-4230-a19e-d61f2cf88781",
   "metadata": {},
   "source": [
    "In the HCAL there is only one plane for each module, so we can roughly half as many hits. In the rest of the detector we have two planes for every modules, that's why we have that little dip."
   ]
  },
  {
   "cell_type": "code",
   "execution_count": null,
   "id": "5b74f2dd-ffe9-4783-b007-858b5c67f750",
   "metadata": {},
   "outputs": [],
   "source": []
  }
 ],
 "metadata": {
  "kernelspec": {
   "display_name": "Python 3",
   "language": "python",
   "name": "python3"
  },
  "language_info": {
   "codemirror_mode": {
    "name": "ipython",
    "version": 3
   },
   "file_extension": ".py",
   "mimetype": "text/x-python",
   "name": "python",
   "nbconvert_exporter": "python",
   "pygments_lexer": "ipython3",
   "version": "3.9.2"
  }
 },
 "nbformat": 4,
 "nbformat_minor": 5
}
